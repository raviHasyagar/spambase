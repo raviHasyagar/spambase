{
 "cells": [
  {
   "cell_type": "markdown",
   "id": "1b2be283",
   "metadata": {},
   "source": [
    "# SPAMBASE"
   ]
  },
  {
   "cell_type": "markdown",
   "id": "bd46a55e",
   "metadata": {},
   "source": [
    "Using standard practices of building ML models, I built a classifier to classify emails as spam or non spam. The description of entire process has been summarized at the end."
   ]
  },
  {
   "cell_type": "code",
   "execution_count": 161,
   "id": "0b00c041",
   "metadata": {},
   "outputs": [],
   "source": [
    "############# ALL IMPORTS\n",
    "from sklearn.neighbors import KNeighborsClassifier\n",
    "from sklearn.tree import DecisionTreeClassifier\n",
    "from sklearn.svm import SVC\n",
    "from sklearn.linear_model import LogisticRegression\n",
    "from sklearn.ensemble import RandomForestClassifier\n",
    "from sklearn.ensemble import GradientBoostingClassifier\n",
    "from sklearn.metrics import plot_roc_curve\n",
    "from sklearn.metrics import roc_curve\n",
    "from sklearn.metrics import roc_auc_score\n",
    "from sklearn.metrics import accuracy_score\n",
    "from sklearn.metrics import precision_score\n",
    "from sklearn.metrics import recall_score\n",
    "from sklearn.metrics import f1_score\n",
    "from sklearn.metrics import make_scorer\n",
    "from sklearn.metrics import confusion_matrix\n",
    "from sklearn.metrics import ConfusionMatrixDisplay\n",
    "\n",
    "from scikitplot.metrics import plot_cumulative_gain\n",
    "from scikitplot.metrics import plot_lift_curve\n",
    "\n",
    "from keras.wrappers.scikit_learn import KerasClassifier\n",
    "\n",
    "import matplotlib.pyplot as plt"
   ]
  },
  {
   "cell_type": "code",
   "execution_count": 151,
   "id": "b4fea7f4",
   "metadata": {},
   "outputs": [],
   "source": [
    "#### Data Load\n",
    "names = ['word_freq_make', 'word_freq_address', 'word_freq_all', \n",
    "         'word_freq_3d', 'word_freq_our', 'word_freq_over', \n",
    "         'word_freq_remove', 'word_freq_internet', 'word_freq_order', \n",
    "         'word_freq_mail', 'word_freq_receive', 'word_freq_will', \n",
    "         'word_freq_people', 'word_freq_report', 'word_freq_addresses', \n",
    "         'word_freq_free', 'word_freq_business', 'word_freq_email', \n",
    "         'word_freq_you', 'word_freq_credit', 'word_freq_your', \n",
    "         'word_freq_font', 'word_freq_000', 'word_freq_money', \n",
    "         'word_freq_hp', 'word_freq_hpl', 'word_freq_george', \n",
    "         'word_freq_650', 'word_freq_lab', 'word_freq_labs', \n",
    "         'word_freq_telnet', 'word_freq_857', 'word_freq_data', \n",
    "         'word_freq_415', 'word_freq_85', 'word_freq_technology', \n",
    "         'word_freq_1999', 'word_freq_parts', 'word_freq_pm', \n",
    "         'word_freq_direct', 'word_freq_cs', 'word_freq_meeting', \n",
    "         'word_freq_original', 'word_freq_project', 'word_freq_re', \n",
    "         'word_freq_edu', 'word_freq_table', 'word_freq_conference', \n",
    "         'char_freq_;', 'char_freq_(', 'char_freq_[', 'char_freq_!', \n",
    "         'char_freq_$', 'char_freq_#', 'capital_run_length_average', \n",
    "         'capital_run_length_longest', 'capital_run_length_total', 'class']\n",
    "data = pd.read_csv(\"D:\\\\Academics\\\\UMN-MSBA\\\\Term 2\\\\MSBA 6420 - Predictive Analytics\\\\HW3\\\\spambase.data\", names = names)\n",
    "X_data = data.drop(['class'], 1)\n",
    "y_data = data['class']"
   ]
  },
  {
   "cell_type": "code",
   "execution_count": 152,
   "id": "6cb09a3a",
   "metadata": {},
   "outputs": [
    {
     "name": "stdout",
     "output_type": "stream",
     "text": [
      "2788\n",
      "1813\n"
     ]
    }
   ],
   "source": [
    "#### Exploration\n",
    "print(data[data['class'] == 0]['class'].count())\n",
    "print(data[data['class'] == 1]['class'].count())"
   ]
  },
  {
   "cell_type": "code",
   "execution_count": 153,
   "id": "135315e5",
   "metadata": {},
   "outputs": [],
   "source": [
    "X_train, X_test, y_train, y_test = train_test_split(X_data, y_data, random_state = 42)"
   ]
  },
  {
   "cell_type": "code",
   "execution_count": 154,
   "id": "959048e1",
   "metadata": {},
   "outputs": [],
   "source": [
    "############# PIPELINES and MODELS\n",
    "dt = DecisionTreeClassifier()\n",
    "\n",
    "lr = LogisticRegression()\n",
    "pipe_lr = Pipeline([('sc', StandardScaler()), ('lr', lr)])\n",
    "\n",
    "knn = KNeighborsClassifier()\n",
    "pipe_knn = Pipeline([('sc', StandardScaler()), ('knn', knn)])\n",
    "\n",
    "svm = SVC()\n",
    "pipe_svm = Pipeline([('sc', StandardScaler()), ('svm', svm)])\n",
    "\n",
    "def nn_baseline_model():\n",
    "    model = Sequential()\n",
    "    #add model layers\n",
    "    model.add(Dense(4, input_dim = 57, kernel_initializer = 'normal', activation = 'relu'))\n",
    "    model.add(Dense(4, kernel_initializer = 'normal', activation='relu')) # input_dim=8, \n",
    "    model.add(Dense(2, activation = 'softmax'))\n",
    "    # Compile the model\n",
    "    model.compile(optimizer='adadelta', loss='categorical_crossentropy')\n",
    "    return model\n",
    "model = KerasClassifier(build_fn = nn_baseline_model, verbose = 0)\n",
    "pipe_nn = Pipeline([('sc', StandardScaler()), ('nn', model)])\n",
    "\n",
    "rf = RandomForestClassifier()\n",
    "gbc = GradientBoostingClassifier()"
   ]
  },
  {
   "cell_type": "markdown",
   "id": "51c04a61",
   "metadata": {},
   "source": [
    "#### Task 1"
   ]
  },
  {
   "cell_type": "code",
   "execution_count": 155,
   "id": "16177e9a",
   "metadata": {},
   "outputs": [],
   "source": [
    "#### SETTING UP PARAMETERS\n",
    "C_values = np.logspace(-5, 5, 11)\n",
    "l1_ratio_values = np.logspace(-5, 0, 6)\n",
    "epochs = [10, 30, 50, 70, 90, 110]\n",
    "batches = [100, 150, 200, 250, 300]\n",
    "eps = [0.1, 0.3, 0.7, 1.2, 2, 5, 10]\n",
    "\n",
    "lr_param = {'penalty': ['elasticnet'], 'solver': ['saga'], 'C': C_values, 'l1_ratio': l1_ratio_values}\n",
    "knn_param = {'n_neighbors': list(range(1, 50))}\n",
    "svm_param = {'C': C_values, 'gamma': C_values, 'max_iter': [100]}\n",
    "nn_norm_param = {'nn__epochs': epochs, 'nn__batch_size': batches}\n",
    "\n",
    "dt_param = {'max_depth': [1,2,3,4,5,6,7,8,9,10], 'min_samples_leaf': [1,2,3,4,5,6,7,8,9,10]}\n",
    "lr_norm_param = {'lr__penalty': ['elasticnet'], 'lr__solver': ['saga'], 'lr__C': C_values, 'lr__l1_ratio': l1_ratio_values}\n",
    "knn_norm_param = {'knn__n_neighbors': list(range(1, 50))}\n",
    "svm_norm_param = {'svm__C': C_values, 'svm__gamma': C_values, 'svm__max_iter': [100]}\n",
    "rf_param = {'n_estimators': [10, 15, 20, 25, 30], 'max_depth': [1,2,3,4,5,6,7,8,9,10], 'min_samples_leaf': [1,2,3,4,5,6,7,8,9,10]}\n",
    "gbc_param = {'n_estimators': [10, 15, 20, 25, 30], 'max_depth': [1,2,3,4,5,6,7,8,9,10], 'min_samples_leaf': [1,2,3,4,5,6,7,8,9,10]}\n",
    "nn_param = {'epochs': epochs, 'batch_size': batches}\n"
   ]
  },
  {
   "cell_type": "code",
   "execution_count": 156,
   "id": "97e5a336",
   "metadata": {},
   "outputs": [],
   "source": [
    "def cost_sensitive_scoring(y_true, y_pred, costs):\n",
    "    from sklearn.metrics import confusion_matrix\n",
    "    conf_matrix = confusion_matrix(y_true, y_pred)\n",
    "    \n",
    "    true_negetive_cost = costs['tn'] * conf_matrix[0][0]\n",
    "    true_positive_cost = costs['tp'] * conf_matrix[1][1]\n",
    "    false_positive_cost = costs['fp'] * conf_matrix[0][1]\n",
    "    false_negetive_cost = costs['fn'] * conf_matrix[1][0]\n",
    "    \n",
    "    total_cost = true_negetive_cost + true_positive_cost + false_positive_cost + false_negetive_cost\n",
    "    \n",
    "    return total_cost"
   ]
  },
  {
   "cell_type": "code",
   "execution_count": 157,
   "id": "ece72fc8",
   "metadata": {},
   "outputs": [],
   "source": [
    "inner_cv = KFold(n_splits = 4, shuffle = True, random_state = 42)\n",
    "outer_cv = KFold(n_splits = 4, shuffle = True, random_state = 42)\n",
    "# costs = {'tp': 0, 'tn': 0, 'fp': 10, 'fn': 1}\n",
    "# custom_scorer = make_scorer(cost_sensitive_scoring, greater_is_better=False,  costs = costs)\n",
    "scoring = 'accuracy'"
   ]
  },
  {
   "cell_type": "code",
   "execution_count": 41,
   "id": "9851ba53",
   "metadata": {},
   "outputs": [
    {
     "name": "stdout",
     "output_type": "stream",
     "text": [
      "Mean CV Scores for Decision Tree along with Grid Search 0.9179738434694706\n"
     ]
    }
   ],
   "source": [
    "#### Decision Tree\n",
    "dt_clf = GridSearchCV(estimator = dt, param_grid = dt_param, scoring  =scoring, cv = inner_cv)\n",
    "dt_score = cross_val_score(dt_clf, X = X_train, y = y_train, cv = outer_cv, scoring = scoring)\n",
    "dt_scores = dt_score.mean()\n",
    "print('Mean CV Scores for Decision Tree along with Grid Search', dt_scores)"
   ]
  },
  {
   "cell_type": "code",
   "execution_count": 42,
   "id": "bafdc55a",
   "metadata": {},
   "outputs": [
    {
     "name": "stdout",
     "output_type": "stream",
     "text": [
      "Mean CV Scores for KNN along with Grid Search 0.8113081491478762\n",
      "Mean CV Scores for KNN (Normalized) along with Grid Search 0.8962335295050718\n"
     ]
    }
   ],
   "source": [
    "#### KNN\n",
    "knn_clf = GridSearchCV(estimator = knn, param_grid = knn_param, scoring = scoring, cv = inner_cv)\n",
    "knn_score = cross_val_score(knn_clf, X = X_train, y = y_train, cv = outer_cv)\n",
    "knn_scores = knn_score.mean()\n",
    "print('Mean CV Scores for KNN along with Grid Search', knn_scores)\n",
    "\n",
    "#### KNN - Normalized\n",
    "knn_norm_clf = GridSearchCV(estimator = pipe_knn, param_grid = knn_norm_param, scoring = scoring, cv = inner_cv)\n",
    "knn_norm_score = cross_val_score(knn_norm_clf, X = X_train, y = y_train, cv = outer_cv)\n",
    "knn_norm_scores = knn_norm_score.mean()\n",
    "print('Mean CV Scores for KNN (Normalized) along with Grid Search', knn_norm_scores)"
   ]
  },
  {
   "cell_type": "code",
   "execution_count": 43,
   "id": "cd6ee7ed",
   "metadata": {},
   "outputs": [
    {
     "name": "stdout",
     "output_type": "stream",
     "text": [
      "Mean CV Scores for Logistic Regression along with Grid Search 0.38868822136130105\n",
      "Mean CV Scores for Logistic Regression (Normalized) along with Grid Search 0.9171061263116577\n"
     ]
    }
   ],
   "source": [
    "#### Logistic Regression\n",
    "lr_clf = GridSearchCV(estimator = lr, param_grid = lr_param, scoring = scoring, cv = inner_cv)\n",
    "lr_score = cross_val_score(lr_clf, X = X_train, y = y_train, cv = outer_cv)\n",
    "lr_scores = lr_score.mean()\n",
    "print('Mean CV Scores for Logistic Regression along with Grid Search', lr_scores)\n",
    "\n",
    "#### Logistic Regression - Normalized\n",
    "lr_norm_clf = GridSearchCV(estimator = pipe_lr, param_grid = lr_norm_param, scoring = scoring, cv = inner_cv)\n",
    "lr_norm_score = cross_val_score(lr_norm_clf, X = X_train, y = y_train, cv = outer_cv)\n",
    "lr_norm_scores = lr_norm_score.mean()\n",
    "print('Mean CV Scores for Logistic Regression (Normalized) along with Grid Search', lr_norm_scores)"
   ]
  },
  {
   "cell_type": "code",
   "execution_count": 44,
   "id": "5d217a2b",
   "metadata": {},
   "outputs": [
    {
     "name": "stdout",
     "output_type": "stream",
     "text": [
      "Mean CV Scores for SVM along with Grid Search 0.654780644328719\n",
      "Mean CV Scores for SVM (Normalized) along with Grid Search 0.7591389234661368\n"
     ]
    }
   ],
   "source": [
    "#### SVM\n",
    "svm_clf = GridSearchCV(estimator = svm, param_grid = svm_param, scoring = scoring, cv = inner_cv)\n",
    "svm_score = cross_val_score(svm_clf, X = X_train, y = y_train, cv = outer_cv)\n",
    "svm_scores = svm_score.mean()\n",
    "print('Mean CV Scores for SVM along with Grid Search', svm_scores)\n",
    "\n",
    "#### SVM - Normalized\n",
    "svm_norm_clf = GridSearchCV(estimator = pipe_svm, param_grid = svm_norm_param, scoring = scoring, cv = inner_cv)\n",
    "svm_norm_score = cross_val_score(svm_norm_clf, X = X_train, y = y_train, cv = outer_cv)\n",
    "svm_norm_scores = svm_norm_score.mean()\n",
    "print('Mean CV Scores for SVM (Normalized) along with Grid Search', svm_norm_scores)"
   ]
  },
  {
   "cell_type": "code",
   "execution_count": 45,
   "id": "7feac567",
   "metadata": {},
   "outputs": [
    {
     "name": "stdout",
     "output_type": "stream",
     "text": [
      "Mean CV Scores for Neural Network along with Grid Search 0.5912981613268343\n",
      "Mean CV Scores for Neural Network (Normalized) along with Grid Search 0.5884002817560283\n"
     ]
    }
   ],
   "source": [
    "#### NN\n",
    "nn_clf = GridSearchCV(estimator = model, param_grid = nn_param, cv = inner_cv, scoring = scoring)\n",
    "nn_nested_score = cross_val_score(nn_clf, X = X_train, y = y_train, cv = outer_cv, scoring = scoring)\n",
    "nn_scores = nn_nested_score.mean()\n",
    "print('Mean CV Scores for Neural Network along with Grid Search', nn_scores)\n",
    "\n",
    "#### NN - Normalized\n",
    "nn_norm_clf = GridSearchCV(estimator = pipe_nn, param_grid = nn_norm_param, cv = inner_cv, scoring = scoring)\n",
    "nn_norm_nested_score = cross_val_score(nn_norm_clf, X = X_train, y = y_train, cv = outer_cv, scoring = scoring)\n",
    "nn_norm_scores = nn_norm_nested_score.mean()\n",
    "print('Mean CV Scores for Neural Network (Normalized) along with Grid Search', nn_norm_scores)"
   ]
  },
  {
   "cell_type": "code",
   "execution_count": 46,
   "id": "a0600d13",
   "metadata": {},
   "outputs": [
    {
     "name": "stdout",
     "output_type": "stream",
     "text": [
      "Mean CV Scores for Random Forest along with Grid Search 0.9376833228929462\n"
     ]
    }
   ],
   "source": [
    "#### Random Forest\n",
    "rf_clf = GridSearchCV(estimator = rf, param_grid = rf_param, scoring  =scoring, cv = inner_cv)\n",
    "rf_score = cross_val_score(rf_clf, X = X_train, y = y_train, cv = outer_cv)\n",
    "rf_scores = rf_score.mean()\n",
    "print('Mean CV Scores for Random Forest along with Grid Search', rf_scores)"
   ]
  },
  {
   "cell_type": "code",
   "execution_count": 47,
   "id": "d680abaf",
   "metadata": {},
   "outputs": [
    {
     "name": "stdout",
     "output_type": "stream",
     "text": [
      "Mean CV Scores for Gradient Boosting along with Grid Search 0.9382633692966584\n"
     ]
    }
   ],
   "source": [
    "#### Gradient Boosting Trees\n",
    "gbc_clf = GridSearchCV(estimator = gbc, param_grid = gbc_param, scoring = scoring, cv = inner_cv)\n",
    "gbc_score = cross_val_score(gbc_clf, X = X_train, y = y_train, cv = outer_cv)\n",
    "gbc_scores = gbc_score.mean()\n",
    "print('Mean CV Scores for Gradient Boosting along with Grid Search', gbc_scores)"
   ]
  },
  {
   "cell_type": "code",
   "execution_count": 56,
   "id": "d205c284",
   "metadata": {},
   "outputs": [
    {
     "data": {
      "text/plain": [
       "array([0.9533756 , 0.82056723, 0.97119457, ..., 0.08946882, 0.90835171,\n",
       "       0.95737733])"
      ]
     },
     "execution_count": 56,
     "metadata": {},
     "output_type": "execute_result"
    }
   ],
   "source": [
    "y_pred_probs[:,0]"
   ]
  },
  {
   "cell_type": "code",
   "execution_count": 159,
   "id": "96711f77",
   "metadata": {},
   "outputs": [
    {
     "name": "stdout",
     "output_type": "stream",
     "text": [
      "Accuracy Score for the final model is 0.9435273675065161\n"
     ]
    }
   ],
   "source": [
    "#### FINAL MODEL\n",
    "#### The best model is Random Forest based on the accuracy scores\n",
    "rf_clf = GridSearchCV(estimator = rf, param_grid = rf_param, scoring  =scoring, cv = inner_cv)\n",
    "rf_clf.fit(X = X_train, y = y_train)\n",
    "y_pred = rf_clf.predict(X_test)\n",
    "print('Accuracy Score for the final model is', accuracy_score(y_test, y_pred))\n",
    "y_pred_probs = rf_clf.predict_proba(X_test)"
   ]
  },
  {
   "cell_type": "code",
   "execution_count": 162,
   "id": "78792b21",
   "metadata": {},
   "outputs": [
    {
     "name": "stdout",
     "output_type": "stream",
     "text": [
      "Best parameters for Random Forest are {'max_depth': 10, 'min_samples_leaf': 1, 'n_estimators': 25}\n",
      "Precision for Spam is  0.9659090909090909\n",
      "Precision for Non-Spam is  0.929676511954993\n",
      "Recall for Spam is  0.8947368421052632\n",
      "Recall for Non-Spam is  0.977810650887574\n",
      "F1 for Spam is  0.9289617486338798\n",
      "F1 for Non-Spam is  0.9531362653208364\n"
     ]
    }
   ],
   "source": [
    "print('Best parameters for Random Forest are',rf_clf.best_params_)\n",
    "print('Precision for Spam is ', precision_score(y_test, y_pred))\n",
    "print('Precision for Non-Spam is ', precision_score(y_test, y_pred, pos_label = 0))\n",
    "print('Recall for Spam is ', recall_score(y_test, y_pred))\n",
    "print('Recall for Non-Spam is ', recall_score(y_test, y_pred, pos_label = 0))\n",
    "print('F1 for Spam is ', f1_score(y_test, y_pred))\n",
    "print('F1 for Non-Spam is ', f1_score(y_test, y_pred, pos_label = 0))"
   ]
  },
  {
   "cell_type": "code",
   "execution_count": 163,
   "id": "bb7f37f4",
   "metadata": {},
   "outputs": [
    {
     "name": "stdout",
     "output_type": "stream",
     "text": [
      "ROC AUC Score for Random Forest is 0.9833681096231703\n"
     ]
    },
    {
     "data": {
      "image/png": "[encoded data removed]",
      "text/plain": [
       "<Figure size 432x288 with 1 Axes>"
      ]
     },
     "metadata": {
      "needs_background": "light"
     },
     "output_type": "display_data"
    }
   ],
   "source": [
    "#### ROC Curve\n",
    "fpr, tpr, thresholds = roc_curve(y_test, y_pred_probs[:,0], pos_label=0)\n",
    "print('ROC AUC Score for Random Forest is', roc_auc_score(y_test, y_pred_probs[:,1]))\n",
    "plt.plot(fpr, tpr)\n",
    "plt.xlabel('False Positive Rate')\n",
    "plt.ylabel('True Positive Rate')\n",
    "plt.title('ROC Curve')\n",
    "plt.show()"
   ]
  },
  {
   "cell_type": "code",
   "execution_count": 164,
   "id": "c182021c",
   "metadata": {
    "scrolled": true
   },
   "outputs": [
    {
     "data": {
      "image/png": "[encoded data removed]",
      "text/plain": [
       "<Figure size 432x288 with 1 Axes>"
      ]
     },
     "metadata": {
      "needs_background": "light"
     },
     "output_type": "display_data"
    },
    {
     "data": {
      "image/png": "[encoded data removed]",
      "text/plain": [
       "<Figure size 432x288 with 1 Axes>"
      ]
     },
     "metadata": {
      "needs_background": "light"
     },
     "output_type": "display_data"
    }
   ],
   "source": [
    "#### Cumulative Gains Chart and Lift Curve\n",
    "probs = pd.DataFrame(y_pred_probs)\n",
    "plot_cumulative_gain(y_test, probs)\n",
    "plt.show()\n",
    "plot_lift_curve(y_test, probs)\n",
    "plt.show()"
   ]
  },
  {
   "cell_type": "code",
   "execution_count": 165,
   "id": "12208f36",
   "metadata": {
    "scrolled": true
   },
   "outputs": [
    {
     "data": {
      "image/png": "[encoded data removed]",
      "text/plain": [
       "<Figure size 432x288 with 1 Axes>"
      ]
     },
     "metadata": {
      "needs_background": "light"
     },
     "output_type": "display_data"
    },
    {
     "name": "stdout",
     "output_type": "stream",
     "text": [
      "Best cutoff for best model is 0.6144091259338369\n",
      "Score at this cutoff is 115\n"
     ]
    },
    {
     "data": {
      "image/png": "[encoded data removed]",
      "text/plain": [
       "<Figure size 432x288 with 2 Axes>"
      ]
     },
     "metadata": {
      "needs_background": "light"
     },
     "output_type": "display_data"
    }
   ],
   "source": [
    "#### Cost Sensitive cut-off for Random Forest\n",
    "cost_sensitive_array = np.array([y_test, y_pred_probs[:,1]]).transpose()\n",
    "cost_sensitive_array = cost_sensitive_array[cost_sensitive_array[:, 1].argsort()]\n",
    "cost_sensitive_df = pd.DataFrame(cost_sensitive_array, columns = ['actual', 'probabilities'])\n",
    "cost_sensitive_df[cost_sensitive_df.index == 0]\n",
    "cut_offs = []\n",
    "scores = []\n",
    "min_score = 1000000\n",
    "for i in range(len(cost_sensitive_array[:, 1])):\n",
    "    cut_off = float(cost_sensitive_df[cost_sensitive_df.index == i]['probabilities']) - 0.000001\n",
    "    ones = len(cost_sensitive_df[cost_sensitive_df['probabilities'] > cut_off]['actual'])\n",
    "    zeroes = len(cost_sensitive_df[cost_sensitive_df['probabilities'] <= cut_off]['actual'])\n",
    "    predictions = [0] * zeroes + [1] * ones\n",
    "    cost_score = cost_sensitive_scoring(cost_sensitive_df['actual'], predictions, costs)\n",
    "    scores.append(cost_score)\n",
    "    cut_offs.append(cut_off)\n",
    "    if cost_score < min_score:\n",
    "        min_score = cost_score\n",
    "index_least_score = scores.index(min_score)\n",
    "best_cutoff = cut_offs[index_least_score]\n",
    "plt.plot(cut_offs, scores)\n",
    "plt.xlabel('Probability Cutoff')\n",
    "plt.ylabel('Cost Sensitive Score')\n",
    "plt.title('ROC Curve')\n",
    "plt.show()\n",
    "\n",
    "print('Best cutoff for best model is', best_cutoff)\n",
    "print('Score at this cutoff is', min_score)\n",
    "\n",
    "ones = len(cost_sensitive_df[cost_sensitive_df['probabilities'] > best_cutoff]['actual'])\n",
    "zeroes = len(cost_sensitive_df[cost_sensitive_df['probabilities'] <= best_cutoff]['actual'])\n",
    "predictions = [0] * zeroes + [1] * ones\n",
    "cf_matrix = confusion_matrix(cost_sensitive_df['actual'], predictions)\n",
    "ConfusionMatrixDisplay(cf_matrix).plot()\n",
    "plt.show()\n",
    "\n"
   ]
  },
  {
   "cell_type": "markdown",
   "id": "1ff6de3a",
   "metadata": {},
   "source": [
    "#### Task 2"
   ]
  },
  {
   "cell_type": "code",
   "execution_count": 178,
   "id": "436a3c29",
   "metadata": {},
   "outputs": [],
   "source": [
    "#### SETTING UP PARAMETERS\n",
    "C_values = np.logspace(-5, 5, 11)\n",
    "l1_ratio_values = np.logspace(-5, 0, 6)\n",
    "epochs = [10, 30, 50, 70, 90, 110]\n",
    "batches = [100, 150, 200, 250, 300]\n",
    "eps = [0.1, 0.3, 0.7, 1.2, 2, 5, 10]\n",
    "\n",
    "lr_param = {'penalty': ['elasticnet'], 'solver': ['saga'], 'C': C_values, \n",
    "            'l1_ratio': l1_ratio_values, 'class_weight' : [{0:10, 1:1}]}\n",
    "knn_param = {'n_neighbors': list(range(1, 50))}\n",
    "svm_norm_param = {'C': C_values, 'gamma': C_values, 'class_weight' : [{0:10, 1:1}]}\n",
    "nn_norm_param = {'nn__epochs': epochs, 'nn__batch_size': batches}\n",
    "\n",
    "dt_param = {'max_depth': [1,2,3,4,5,6,7,8,9,10], 'min_samples_leaf': [1,2,3,4,5,6,7,8,9,10], 'class_weight' : [{0:10, 1:1}]}\n",
    "lr_norm_param = {'lr__penalty': ['elasticnet'], 'lr__solver': ['saga'], \n",
    "                 'lr__C': C_values, 'lr__l1_ratio': l1_ratio_values, 'lr__class_weight' : [{0:10, 1:1}]}\n",
    "knn_norm_param = {'knn__n_neighbors': list(range(1, 50))}\n",
    "svm_norm_param = {'svm__C': C_values, 'svm__gamma': C_values, 'svm__class_weight' : [{0:10, 1:1}]}\n",
    "rf_param = {'n_estimators': [10, 15, 20, 25, 30], 'max_depth': [1,2,3,4,5,6,7,8,9,10], \n",
    "            'min_samples_leaf': [1,2,3,4,5,6,7,8,9,10], 'class_weight' : [{0:10, 1:1}]}\n",
    "gbc_param = {'n_estimators': [10, 15, 20, 25, 30], 'max_depth': [1,2,3,4,5,6,7,8,9,10], \n",
    "             'min_samples_leaf': [1,2,3,4,5,6,7,8,9,10], 'class_weight' : [{0:10, 1:1}]}\n",
    "gbc_param = {'n_estimators': [10, 15, 20, 25, 30], 'max_depth': [1,2,3,4,5,6,7,8,9,10], \n",
    "             'min_samples_leaf': [1,2,3,4,5,6,7,8,9,10], 'class_weight' : [{0:10, 1:1}]}\n",
    "\n",
    "nn_param = {'epochs': epochs, 'batch_size': batches}\n"
   ]
  },
  {
   "cell_type": "markdown",
   "id": "343db1d3",
   "metadata": {},
   "source": [
    "For this analysis we use cost sensitive scores which again have to be minimised. Since **greater_is_better=False** the scores have been reported as negetive as negetive scores will be maximised which is default behavior of **cross_val_score**"
   ]
  },
  {
   "cell_type": "code",
   "execution_count": 179,
   "id": "6d03c4b6",
   "metadata": {},
   "outputs": [],
   "source": [
    "inner_cv = KFold(n_splits = 4, shuffle = True, random_state = 42)\n",
    "outer_cv = KFold(n_splits = 4, shuffle = True, random_state = 42)\n",
    "costs = {'tp': 0, 'tn': 0, 'fp': 5, 'fn': 1}\n",
    "custom_scorer = make_scorer(cost_sensitive_scoring, greater_is_better=False,  costs = costs)\n",
    "scoring = custom_scorer"
   ]
  },
  {
   "cell_type": "code",
   "execution_count": 180,
   "id": "e92ea17d",
   "metadata": {},
   "outputs": [
    {
     "name": "stdout",
     "output_type": "stream",
     "text": [
      "Mean CV Scores for Decision Tree along with Grid Search -165.75\n"
     ]
    }
   ],
   "source": [
    "#### Decision Tree\n",
    "dt_clf = GridSearchCV(estimator = dt, param_grid = dt_param, scoring = scoring, cv = inner_cv)\n",
    "dt_score = cross_val_score(dt_clf, X = X_train, y = y_train, cv = outer_cv)\n",
    "dt_scores = dt_score.mean()\n",
    "print('Mean CV Scores for Decision Tree along with Grid Search', dt_scores)"
   ]
  },
  {
   "cell_type": "code",
   "execution_count": 49,
   "id": "93dcd872",
   "metadata": {},
   "outputs": [],
   "source": [
    "# #### KNN ---- no class weight parameter\n",
    "# knn_clf = GridSearchCV(estimator = knn, param_grid = knn_param, scoring = scoring, cv = inner_cv)\n",
    "# knn_score = cross_val_score(knn_clf, X = X_train, y = y_train, cv = outer_cv)\n",
    "# knn_scores = knn_score.mean()\n",
    "# print('Mean CV Scores for KNN along with Grid Search', knn_scores)\n",
    "\n",
    "# #### KNN - Normalized\n",
    "# knn_norm_clf = GridSearchCV(estimator = pipe_knn, param_grid = knn_norm_param, scoring = scoring, cv = inner_cv)\n",
    "# knn_norm_score = cross_val_score(knn_norm_clf, X = X_train, y = y_train, cv = outer_cv)\n",
    "# knn_norm_scores = knn_norm_score.mean()\n",
    "# print('Mean CV Scores for KNN (Normalized) along with Grid Search', knn_norm_scores)"
   ]
  },
  {
   "cell_type": "code",
   "execution_count": 181,
   "id": "b6dcfc1c",
   "metadata": {},
   "outputs": [
    {
     "name": "stdout",
     "output_type": "stream",
     "text": [
      "Mean CV Scores for Logistic Regression along with Grid Search -335.0\n",
      "Mean CV Scores for Logistic Regression (Normalized) along with Grid Search -176.75\n"
     ]
    }
   ],
   "source": [
    "#### Logistic Regression\n",
    "lr_clf = GridSearchCV(estimator = lr, param_grid = lr_param, scoring = scoring, cv = inner_cv)\n",
    "lr_score = cross_val_score(lr_clf, X = X_train, y = y_train, cv = outer_cv)\n",
    "lr_scores = lr_score.mean()\n",
    "print('Mean CV Scores for Logistic Regression along with Grid Search', lr_scores)\n",
    "\n",
    "#### Logistic Regression - Normalized\n",
    "lr_norm_clf = GridSearchCV(estimator = pipe_lr, param_grid = lr_norm_param, scoring = scoring, cv = inner_cv)\n",
    "lr_norm_score = cross_val_score(lr_norm_clf, X = X_train, y = y_train, cv = outer_cv)\n",
    "lr_norm_scores = lr_norm_score.mean()\n",
    "print('Mean CV Scores for Logistic Regression (Normalized) along with Grid Search', lr_norm_scores)"
   ]
  },
  {
   "cell_type": "code",
   "execution_count": 184,
   "id": "be69e903",
   "metadata": {},
   "outputs": [
    {
     "name": "stdout",
     "output_type": "stream",
     "text": [
      "Mean CV Scores for SVM along with Grid Search -361.75\n",
      "Mean CV Scores for SVM (Normalized) along with Grid Search -150.25\n"
     ]
    }
   ],
   "source": [
    "#### SVM\n",
    "svm_clf = GridSearchCV(estimator = svm, param_grid = svm_param, scoring = scoring, cv = inner_cv)\n",
    "svm_score = cross_val_score(svm_clf, X = X_train, y = y_train, cv = outer_cv)\n",
    "svm_scores = svm_score.mean()\n",
    "print('Mean CV Scores for SVM along with Grid Search', svm_scores)\n",
    "\n",
    "#### SVM - Normalized\n",
    "svm_norm_clf = GridSearchCV(estimator = pipe_svm, param_grid = svm_norm_param, scoring = scoring, cv = inner_cv)\n",
    "svm_norm_score = cross_val_score(svm_norm_clf, X = X_train, y = y_train, cv = outer_cv)\n",
    "svm_norm_scores = svm_norm_score.mean()\n",
    "print('Mean CV Scores for SVM (Normalized) along with Grid Search', svm_norm_scores)"
   ]
  },
  {
   "cell_type": "code",
   "execution_count": 182,
   "id": "666c27bc",
   "metadata": {},
   "outputs": [
    {
     "name": "stdout",
     "output_type": "stream",
     "text": [
      "Mean CV Scores for Neural Network along with Grid Search -1252.5\n",
      "Mean CV Scores for Neural Network (Normalized) along with Grid Search -698.75\n"
     ]
    }
   ],
   "source": [
    "#### NN\n",
    "nn_clf = GridSearchCV(estimator = model, param_grid = nn_param, cv = inner_cv, scoring = scoring)\n",
    "nn_nested_score = cross_val_score(nn_clf, X = X_train, y = y_train, cv = outer_cv, scoring = scoring)\n",
    "nn_scores = nn_nested_score.mean()\n",
    "print('Mean CV Scores for Neural Network along with Grid Search', nn_scores)\n",
    "\n",
    "#### NN - Normalized\n",
    "nn_norm_clf = GridSearchCV(estimator = pipe_nn, param_grid = nn_norm_param, cv = inner_cv, scoring = scoring)\n",
    "nn_norm_nested_score = cross_val_score(nn_norm_clf, X = X_train, y = y_train, cv = outer_cv, scoring = scoring)\n",
    "nn_norm_scores = nn_norm_nested_score.mean()\n",
    "print('Mean CV Scores for Neural Network (Normalized) along with Grid Search', nn_norm_scores)"
   ]
  },
  {
   "cell_type": "code",
   "execution_count": 183,
   "id": "9f47d419",
   "metadata": {},
   "outputs": [
    {
     "name": "stdout",
     "output_type": "stream",
     "text": [
      "Mean CV Scores for Random Forest along with Grid Search -119.25\n"
     ]
    }
   ],
   "source": [
    "#### Random Forest\n",
    "rf_clf = GridSearchCV(estimator = rf, param_grid = rf_param, scoring  =scoring, cv = inner_cv)\n",
    "rf_score = cross_val_score(rf_clf, X = X_train, y = y_train, cv = outer_cv)\n",
    "rf_scores = rf_score.mean()\n",
    "print('Mean CV Scores for Random Forest along with Grid Search', rf_scores)"
   ]
  },
  {
   "cell_type": "code",
   "execution_count": 31,
   "id": "625d8101",
   "metadata": {},
   "outputs": [],
   "source": [
    "# #### Gradient Boosting Trees\n",
    "# gbc_clf = GridSearchCV(estimator = gbc, param_grid = gbc_param, scoring = scoring, cv = inner_cv)\n",
    "# gbc_score = cross_val_score(gbc_clf, X = X_train, y = y_train, cv = outer_cv)\n",
    "# gbc_scores = gbc_score.mean()\n",
    "# print('Mean CV Scores for Gradient Boosting along with Grid Search', gbc_scores)"
   ]
  },
  {
   "cell_type": "code",
   "execution_count": 185,
   "id": "6cbf7e5d",
   "metadata": {},
   "outputs": [
    {
     "name": "stdout",
     "output_type": "stream",
     "text": [
      "Accuracy Score for the final model is 0.895742832319722\n"
     ]
    }
   ],
   "source": [
    "#### FINAL MODEL\n",
    "#### The best model is Random Forest based on the cost sensitive scores\n",
    "rf_clf = GridSearchCV(estimator = rf, param_grid = rf_param, scoring  =scoring, cv = inner_cv)\n",
    "rf_clf.fit(X = X_train, y = y_train)\n",
    "y_pred = rf_clf.predict(X_test)\n",
    "print('Accuracy Score for the final model is', accuracy_score(y_test, y_pred))\n",
    "y_pred_probs = rf_clf.predict_proba(X_test)"
   ]
  },
  {
   "cell_type": "code",
   "execution_count": 186,
   "id": "b365e135",
   "metadata": {},
   "outputs": [
    {
     "name": "stdout",
     "output_type": "stream",
     "text": [
      "Best parameters for Random Forest are {'class_weight': {0: 10, 1: 1}, 'max_depth': 10, 'min_samples_leaf': 1, 'n_estimators': 20}\n",
      "Precision for Spam is  0.9758713136729222\n",
      "Precision for Non-Spam is  0.8573264781491002\n",
      "Recall for Spam is  0.7663157894736842\n",
      "Recall for Non-Spam is  0.9866863905325444\n",
      "F1 for Spam is  0.8584905660377359\n",
      "F1 for Non-Spam is  0.9174690508940853\n"
     ]
    }
   ],
   "source": [
    "print('Best parameters for Random Forest are',rf_clf.best_params_)\n",
    "print('Precision for Spam is ', precision_score(y_test, y_pred))\n",
    "print('Precision for Non-Spam is ', precision_score(y_test, y_pred, pos_label = 0))\n",
    "print('Recall for Spam is ', recall_score(y_test, y_pred))\n",
    "print('Recall for Non-Spam is ', recall_score(y_test, y_pred, pos_label = 0))\n",
    "print('F1 for Spam is ', f1_score(y_test, y_pred))\n",
    "print('F1 for Non-Spam is ', f1_score(y_test, y_pred, pos_label = 0))"
   ]
  },
  {
   "cell_type": "code",
   "execution_count": 187,
   "id": "1bd94ce1",
   "metadata": {},
   "outputs": [
    {
     "name": "stdout",
     "output_type": "stream",
     "text": [
      "ROC AUC Score for Random Forest is 0.9703659296169418\n"
     ]
    },
    {
     "data": {
      "image/png": "[encoded data removed]",
      "text/plain": [
       "<Figure size 432x288 with 1 Axes>"
      ]
     },
     "metadata": {
      "needs_background": "light"
     },
     "output_type": "display_data"
    }
   ],
   "source": [
    "#### ROC Curve\n",
    "fpr, tpr, thresholds = roc_curve(y_test, y_pred_probs[:,0], pos_label=0)\n",
    "print('ROC AUC Score for Random Forest is', roc_auc_score(y_test, y_pred_probs[:,1]))\n",
    "plt.plot(fpr, tpr)\n",
    "plt.xlabel('False Positive Rate')\n",
    "plt.ylabel('True Positive Rate')\n",
    "plt.title('ROC Curve')\n",
    "plt.show()"
   ]
  },
  {
   "cell_type": "code",
   "execution_count": 188,
   "id": "a67a6b00",
   "metadata": {
    "scrolled": true
   },
   "outputs": [
    {
     "data": {
      "image/png": "[encoded data removed]",
      "text/plain": [
       "<Figure size 432x288 with 1 Axes>"
      ]
     },
     "metadata": {
      "needs_background": "light"
     },
     "output_type": "display_data"
    },
    {
     "data": {
      "image/png": "[encoded data removed]",
      "text/plain": [
       "<Figure size 432x288 with 1 Axes>"
      ]
     },
     "metadata": {
      "needs_background": "light"
     },
     "output_type": "display_data"
    }
   ],
   "source": [
    "#### Cumulative Gains Chart and Lift Curve\n",
    "probs = pd.DataFrame(y_pred_probs)\n",
    "plot_cumulative_gain(y_test, probs)\n",
    "plt.show()\n",
    "plot_lift_curve(y_test, probs)\n",
    "plt.show()"
   ]
  },
  {
   "cell_type": "code",
   "execution_count": 189,
   "id": "87739ce6",
   "metadata": {
    "scrolled": true
   },
   "outputs": [
    {
     "data": {
      "image/png": "[encoded data removed]",
      "text/plain": [
       "<Figure size 432x288 with 1 Axes>"
      ]
     },
     "metadata": {
      "needs_background": "light"
     },
     "output_type": "display_data"
    },
    {
     "name": "stdout",
     "output_type": "stream",
     "text": [
      "Best cutoff for best model is 0.4940992363868109\n",
      "Score at this cutoff is 197\n"
     ]
    },
    {
     "data": {
      "image/png": "[encoded data removed]",
      "text/plain": [
       "<Figure size 432x288 with 2 Axes>"
      ]
     },
     "metadata": {
      "needs_background": "light"
     },
     "output_type": "display_data"
    }
   ],
   "source": [
    "#### Cost Sensitive cut-off for SVM (Normalised)\n",
    "cost_sensitive_array = np.array([y_test, y_pred_probs[:,1]]).transpose()\n",
    "cost_sensitive_array = cost_sensitive_array[cost_sensitive_array[:, 1].argsort()]\n",
    "cost_sensitive_df = pd.DataFrame(cost_sensitive_array, columns = ['actual', 'probabilities'])\n",
    "cost_sensitive_df[cost_sensitive_df.index == 0]\n",
    "cost_matrix = {'tp': 0, 'tn': 0, 'fp': 10, 'fn': 1}\n",
    "cut_offs = []\n",
    "scores = []\n",
    "min_score = 1000000\n",
    "for i in range(len(cost_sensitive_array[:, 1])):\n",
    "    cut_off = float(cost_sensitive_df[cost_sensitive_df.index == i]['probabilities']) - 0.000001\n",
    "    ones = len(cost_sensitive_df[cost_sensitive_df['probabilities'] > cut_off]['actual'])\n",
    "    zeroes = len(cost_sensitive_df[cost_sensitive_df['probabilities'] <= cut_off]['actual'])\n",
    "    predictions = [0] * zeroes + [1] * ones\n",
    "    cost_score = cost_sensitive_scoring(cost_sensitive_df['actual'], predictions, cost_matrix)\n",
    "    scores.append(cost_score)\n",
    "    cut_offs.append(cut_off)\n",
    "    if cost_score < min_score:\n",
    "        min_score = cost_score\n",
    "index_least_score = scores.index(min_score)\n",
    "best_cutoff = cut_offs[index_least_score]\n",
    "plt.plot(cut_offs, scores)\n",
    "plt.xlabel('Probability Cutoff')\n",
    "plt.ylabel('Cost Sensitive Score')\n",
    "plt.title('ROC Curve')\n",
    "plt.show()\n",
    "\n",
    "print('Best cutoff for best model is', best_cutoff)\n",
    "print('Score at this cutoff is', min_score)\n",
    "\n",
    "ones = len(cost_sensitive_df[cost_sensitive_df['probabilities'] > best_cutoff]['actual'])\n",
    "zeroes = len(cost_sensitive_df[cost_sensitive_df['probabilities'] <= best_cutoff]['actual'])\n",
    "predictions = [0] * zeroes + [1] * ones\n",
    "cf_matrix = confusion_matrix(cost_sensitive_df['actual'], predictions)\n",
    "ConfusionMatrixDisplay(cf_matrix).plot()\n",
    "plt.show()"
   ]
  },
  {
   "cell_type": "markdown",
   "id": "d2673549",
   "metadata": {},
   "source": [
    "### Approach and Results\n",
    "The model building process was approached in 2 different ways.\n",
    "1. Using model accuracy as the scoring metric.\n",
    "2. Using total misclassification cost as the scoring metric.\n",
    "\n",
    "On initial exploration of the models, we see that there is an imbalance in terms of classes of about 2:3. This does not require a balancing of classes using SMOTE.\n",
    "\n",
    "The rangeof values of the independent variables are different. Thus, the data might require normalization.\n",
    "\n",
    "Initial expectation (from intuition) was that model built using misclassification cost as the class weights is an important parameter in the problem context.\n",
    "\n",
    "The 2 approaches as listed above has been summarised briefly below.\n",
    "**Using total misclassification cost as the scoring metric**\n",
    "1. Several models were run. Namely, Logistic Regression, k-NN, Support Vector Machine, decision tree, Random Forest, Neural Network and Gradient Boosting Classifier.\n",
    "2. Since Tree based models like Decision Tree, Random Forest, and Gradient Boosting Classifier do not require normalization, Only Logistic Regression, k-NN, Neural Network and SVM Classifier were run on both normalised and non-normalised data.\n",
    "3. Each of the models were were evaluated using accuracy as the metric.\n",
    "4. The model with the best cross_val_score (accuracy score) was chosen. This was Random Forest Classifier. The Classifier was refit with best parameters from GridSearchCV and evaluation metrics were as follows.<br />\n",
    "    a. Precision for Spam is  0.9659090909090909<br />\n",
    "    b. Precision for Non-Spam is  0.929676511954993<br />\n",
    "    c. Recall for Spam is  0.8947368421052632<br />\n",
    "    d. Recall for Non-Spam is  0.977810650887574<br />\n",
    "    e. F1 for Spam is  0.9289617486338798<br />\n",
    "    f. F1 for Non-Spam is  0.9531362653208364<br />\n",
    "    g. ROC AUC Score for Random Forest is 0.9833681096231703<br />\n",
    "    h. Accuracy Score for the final model is 0.9435273675065161<br />\n",
    "    i. Misclassification cost 115.<br />\n",
    "   The CutOff which gave the best misclassification cost was 0.6144091259338369\n",
    "\n",
    "**Using model accuracy as the scoring metric**\n",
    "1. Several models were run which supported class_weights. This was done to take into account the misclassification cost. Namely, Logistic Regression, Support Vector Machine, decision tree, Random Forest, Neural Network.\n",
    "2. Since Tree based models like Decision Tree, Random Forest do not require normalization, Only Logistic Regression, Nueral Network and SVM Classifier were run on both normalised and non-normalised data.\n",
    "3. Each of the models were were evaluated using misclassification cost as the metric. A custom scorer was created which could evaluate the misclassification cost during grid search and cross validation.\n",
    "4. During model building process the for the evaluation metric the costs were changed to 5:1 as 10:1 seemed to be overfitting.\n",
    "5. The model with the best cross_val_score (misclassification) was chosen. This was Random Forest Classifier. The Classifier was refit with best parameters from GridSearchCV and evaluation metrics were as follows.<br />\n",
    "    a. Precision for Spam is  0.9758713136729222<br />\n",
    "    b. Precision for Non-Spam is  0.8573264781491002<br />\n",
    "    c. Recall for Spam is  0.7663157894736842<br />\n",
    "    d. Recall for Non-Spam is  0.9866863905325444<br />\n",
    "    e. F1 for Spam is  0.8584905660377359<br />\n",
    "    f. F1 for Non-Spam is  0.9174690508940853 <br />\n",
    "    g. Accuracy Score for the final model is 0.895742832319722<br />\n",
    "    h. ROC AUC Score for Random Forest is 0.9703659296169418<br />\n",
    "    i. Misclassification cost is 197<br />\n",
    "   The CutOff which gave the best misclassification cost was 0.4940992363868109.\n",
    "\n",
    "**Observations**\n",
    "The final model still seems to be overfitting for the second approach. The reason for this could be because the misclassification was specified as class_weights and also as the scoring metric.\n",
    "Model build using Accuracy as the scoring metric proved to be more generalized. Which goes against the expection through intuition which I had initially.\n",
    "\n",
    "**Conclusions**\n",
    "1. Adding multiple layers of costs during model training process leads to overfitting.\n",
    "2. Normalised models performed better than non normalised models.\n",
    "3. NN network model should have been tuned for number of layers and number of nodes in each layer to get better results.\n",
    "4. Ensemble models performed generally better."
   ]
  }
 ],
 "metadata": {
  "kernelspec": {
   "display_name": "Python 3 (ipykernel)",
   "language": "python",
   "name": "python3"
  },
  "language_info": {
   "codemirror_mode": {
    "name": "ipython",
    "version": 3
   },
   "file_extension": ".py",
   "mimetype": "text/x-python",
   "name": "python",
   "nbconvert_exporter": "python",
   "pygments_lexer": "ipython3",
   "version": "3.9.7"
  }
 },
 "nbformat": 4,
 "nbformat_minor": 5
}
